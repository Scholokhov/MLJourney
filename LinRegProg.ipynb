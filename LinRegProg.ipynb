{
  "nbformat": 4,
  "nbformat_minor": 0,
  "metadata": {
    "colab": {
      "provenance": [],
      "authorship_tag": "ABX9TyNQVOeKzfr6jfyeW9MOrqjO",
      "include_colab_link": true
    },
    "kernelspec": {
      "name": "python3",
      "display_name": "Python 3"
    },
    "language_info": {
      "name": "python"
    }
  },
  "cells": [
    {
      "cell_type": "markdown",
      "metadata": {
        "id": "view-in-github",
        "colab_type": "text"
      },
      "source": [
        "<a href=\"https://colab.research.google.com/github/Scholokhov/MLJourney/blob/main/LinRegProg.ipynb\" target=\"_parent\"><img src=\"https://colab.research.google.com/assets/colab-badge.svg\" alt=\"Open In Colab\"/></a>"
      ]
    },
    {
      "cell_type": "code",
      "execution_count": 127,
      "metadata": {
        "id": "ls-LXLgnOLmx"
      },
      "outputs": [],
      "source": [
        "import torch\n",
        "import numpy\n",
        "from torch import nn\n",
        "import matplotlib.pyplot as plt"
      ]
    },
    {
      "cell_type": "code",
      "source": [
        "weight = 0.6\n",
        "bias = 0.2\n",
        "\n",
        "start = 0\n",
        "end = 1\n",
        "step = 0.01\n",
        "X = torch.arange(start, end, step).unsqueeze(dim=1)\n",
        "y = weight*X + bias\n",
        "X[:10], y[:10], len(X), len(y)"
      ],
      "metadata": {
        "colab": {
          "base_uri": "https://localhost:8080/"
        },
        "id": "QxnZmQEKOfvR",
        "outputId": "244eb9c7-61b7-4fb9-f4c8-5112b0343023"
      },
      "execution_count": 128,
      "outputs": [
        {
          "output_type": "execute_result",
          "data": {
            "text/plain": [
              "(tensor([[0.0000],\n",
              "         [0.0100],\n",
              "         [0.0200],\n",
              "         [0.0300],\n",
              "         [0.0400],\n",
              "         [0.0500],\n",
              "         [0.0600],\n",
              "         [0.0700],\n",
              "         [0.0800],\n",
              "         [0.0900]]),\n",
              " tensor([[0.2000],\n",
              "         [0.2060],\n",
              "         [0.2120],\n",
              "         [0.2180],\n",
              "         [0.2240],\n",
              "         [0.2300],\n",
              "         [0.2360],\n",
              "         [0.2420],\n",
              "         [0.2480],\n",
              "         [0.2540]]),\n",
              " 100,\n",
              " 100)"
            ]
          },
          "metadata": {},
          "execution_count": 128
        }
      ]
    },
    {
      "cell_type": "code",
      "source": [
        "train_split = int(0.8*len(X))\n",
        "\n",
        "X_train, y_train = X[:train_split], y[:train_split]\n",
        "X_test, y_test = X[train_split:], y[train_split:]\n",
        "len(X_test)"
      ],
      "metadata": {
        "colab": {
          "base_uri": "https://localhost:8080/"
        },
        "id": "jJ7AihKoQlO9",
        "outputId": "b2fc2bab-628e-4ade-c220-12f8d48a38a8"
      },
      "execution_count": 129,
      "outputs": [
        {
          "output_type": "execute_result",
          "data": {
            "text/plain": [
              "20"
            ]
          },
          "metadata": {},
          "execution_count": 129
        }
      ]
    },
    {
      "cell_type": "code",
      "source": [
        "def plot_predictions(train_data = X_train,\n",
        "                     train_visual = y_train,\n",
        "                     test_data = X_test,\n",
        "                     test_visual = y_test,\n",
        "                     predictions = None):\n",
        "  plt.scatter(train_data, train_visual, label = \"Train Data\")\n",
        "  plt.scatter(test_data, test_visual, label = \"Test Data\")\n",
        "\n",
        "  if predictions is not None:\n",
        "    plt.scatter(test_data, predictions)\n",
        "plot_predictions()"
      ],
      "metadata": {
        "colab": {
          "base_uri": "https://localhost:8080/",
          "height": 430
        },
        "id": "x1iwRg2LRtvZ",
        "outputId": "4ccb0200-9b2a-44dd-d1ea-7cfd6910a9a1"
      },
      "execution_count": 130,
      "outputs": [
        {
          "output_type": "display_data",
          "data": {
            "text/plain": [
              "<Figure size 640x480 with 1 Axes>"
            ],
            "image/png": "[encoded data removed]"
          },
          "metadata": {}
        }
      ]
    },
    {
      "cell_type": "code",
      "source": [
        "class LinearRegressionModel(nn.Module):\n",
        "  def __init__(self) -> None:\n",
        "    super().__init__()\n",
        "    self.weights = nn.Parameter(torch.randn(1,\n",
        "                                              requires_grad=True,\n",
        "                                              dtype = torch.float))\n",
        "    self.bias = nn.Parameter(torch.randn(1,\n",
        "                                           requires_grad=True,\n",
        "                                           dtype = torch.float))\n",
        "  def forward(self, x:torch.Tensor) -> torch.Tensor:\n",
        "    return self.weights*x + self.bias"
      ],
      "metadata": {
        "id": "XEmM3b6USb1Q"
      },
      "execution_count": 131,
      "outputs": []
    },
    {
      "cell_type": "code",
      "source": [
        "torch.manual_seed = 42\n",
        "model_alpha = LinearRegressionModel()\n",
        "list(model_alpha.parameters()), model_alpha.state_dict()"
      ],
      "metadata": {
        "colab": {
          "base_uri": "https://localhost:8080/"
        },
        "id": "uIiMHpJEUDAj",
        "outputId": "6ee58425-c899-4932-868f-2020215835a2"
      },
      "execution_count": 132,
      "outputs": [
        {
          "output_type": "execute_result",
          "data": {
            "text/plain": [
              "([Parameter containing:\n",
              "  tensor([1.3221], requires_grad=True),\n",
              "  Parameter containing:\n",
              "  tensor([0.8172], requires_grad=True)],\n",
              " OrderedDict([('weights', tensor([1.3221])), ('bias', tensor([0.8172]))]))"
            ]
          },
          "metadata": {},
          "execution_count": 132
        }
      ]
    },
    {
      "cell_type": "code",
      "source": [
        "with torch.inference_mode():\n",
        "  y_preds = model_alpha(X_test)\n",
        "len(y_preds), len(y_test)"
      ],
      "metadata": {
        "colab": {
          "base_uri": "https://localhost:8080/"
        },
        "collapsed": true,
        "id": "Mv1It1iFVTur",
        "outputId": "9e9f9aa6-35cd-43c3-cc36-a45dd86e2d71"
      },
      "execution_count": 133,
      "outputs": [
        {
          "output_type": "execute_result",
          "data": {
            "text/plain": [
              "(20, 20)"
            ]
          },
          "metadata": {},
          "execution_count": 133
        }
      ]
    },
    {
      "cell_type": "code",
      "source": [
        "plot_predictions(predictions = y_preds)"
      ],
      "metadata": {
        "colab": {
          "base_uri": "https://localhost:8080/",
          "height": 430
        },
        "id": "VnKFtxYKVi7p",
        "outputId": "e98eed89-72e3-48d5-d50b-e56d7313fbd1"
      },
      "execution_count": 134,
      "outputs": [
        {
          "output_type": "display_data",
          "data": {
            "text/plain": [
              "<Figure size 640x480 with 1 Axes>"
            ],
            "image/png": "[encoded data removed]"
          },
          "metadata": {}
        }
      ]
    },
    {
      "cell_type": "code",
      "source": [
        "MAE = nn.L1Loss()\n",
        "optimizer = torch.optim.SGD(params = model_alpha.parameters(),\n",
        "                            lr = 0.01)"
      ],
      "metadata": {
        "id": "1B6685dFbPwC"
      },
      "execution_count": 135,
      "outputs": []
    },
    {
      "cell_type": "code",
      "source": [
        "epochs = 1000\n",
        "\n",
        "for epoch in range(epochs):\n",
        "  model_alpha.train()\n",
        "\n",
        "  y_pred = model_alpha(X_test)\n",
        "\n",
        "  loss = MAE(y_pred, y_test)\n",
        "\n",
        "  optimizer.zero_grad()\n",
        "  loss.backward()\n",
        "  optimizer.step()\n",
        "  model_alpha.eval()\n",
        "  with torch.inference_mode():\n",
        "    test_pred = model_alpha(X_test)\n",
        "    test_loss = MAE(test_pred, y_test)\n",
        "    if epoch % 10 == 0:\n",
        "      print(f\"Epoch count:{epoch} Loss value:{loss}, test loss value:{test_loss}\")\n",
        "print(model_alpha.state_dict())"
      ],
      "metadata": {
        "colab": {
          "base_uri": "https://localhost:8080/"
        },
        "id": "oqigXfPVXWFa",
        "outputId": "b934a425-e6ac-4eb5-efdc-57da9e8a65c3"
      },
      "execution_count": 136,
      "outputs": [
        {
          "output_type": "stream",
          "name": "stdout",
          "text": [
            "Epoch count:0 Loss value:1.263500690460205, test loss value:1.245490312576294\n",
            "Epoch count:10 Loss value:1.0833983421325684, test loss value:1.0653879642486572\n",
            "Epoch count:20 Loss value:0.9032958745956421, test loss value:0.8852856755256653\n",
            "Epoch count:30 Loss value:0.7231935858726501, test loss value:0.7051833868026733\n",
            "Epoch count:40 Loss value:0.5430912375450134, test loss value:0.5250809788703918\n",
            "Epoch count:50 Loss value:0.36298879981040955, test loss value:0.3449786305427551\n",
            "Epoch count:60 Loss value:0.18288642168045044, test loss value:0.16487619280815125\n",
            "Epoch count:70 Loss value:0.005186605267226696, test loss value:0.005116456653922796\n",
            "Epoch count:80 Loss value:0.004669064190238714, test loss value:0.004743710160255432\n",
            "Epoch count:90 Loss value:0.005097446031868458, test loss value:0.005110320635139942\n",
            "Epoch count:100 Loss value:0.006693211384117603, test loss value:0.007863071747124195\n",
            "Epoch count:110 Loss value:0.008519682101905346, test loss value:0.009490558877587318\n",
            "Epoch count:120 Loss value:0.008519682101905346, test loss value:0.009490558877587318\n",
            "Epoch count:130 Loss value:0.008519682101905346, test loss value:0.009490558877587318\n",
            "Epoch count:140 Loss value:0.008519682101905346, test loss value:0.009490558877587318\n",
            "Epoch count:150 Loss value:0.008519682101905346, test loss value:0.009490558877587318\n",
            "Epoch count:160 Loss value:0.008519682101905346, test loss value:0.009490558877587318\n",
            "Epoch count:170 Loss value:0.008519682101905346, test loss value:0.009490558877587318\n",
            "Epoch count:180 Loss value:0.008519682101905346, test loss value:0.009490558877587318\n",
            "Epoch count:190 Loss value:0.008519682101905346, test loss value:0.009490558877587318\n",
            "Epoch count:200 Loss value:0.008519682101905346, test loss value:0.009490558877587318\n",
            "Epoch count:210 Loss value:0.008519682101905346, test loss value:0.009490558877587318\n",
            "Epoch count:220 Loss value:0.008519682101905346, test loss value:0.009490558877587318\n",
            "Epoch count:230 Loss value:0.008519682101905346, test loss value:0.009490558877587318\n",
            "Epoch count:240 Loss value:0.008519682101905346, test loss value:0.009490558877587318\n",
            "Epoch count:250 Loss value:0.008519682101905346, test loss value:0.009490558877587318\n",
            "Epoch count:260 Loss value:0.008519682101905346, test loss value:0.009490558877587318\n",
            "Epoch count:270 Loss value:0.008519682101905346, test loss value:0.009490558877587318\n",
            "Epoch count:280 Loss value:0.008519682101905346, test loss value:0.009490558877587318\n",
            "Epoch count:290 Loss value:0.008519682101905346, test loss value:0.009490558877587318\n",
            "Epoch count:300 Loss value:0.008519682101905346, test loss value:0.009490558877587318\n",
            "Epoch count:310 Loss value:0.008519682101905346, test loss value:0.009490558877587318\n",
            "Epoch count:320 Loss value:0.008519682101905346, test loss value:0.009490558877587318\n",
            "Epoch count:330 Loss value:0.008519682101905346, test loss value:0.009490558877587318\n",
            "Epoch count:340 Loss value:0.008519682101905346, test loss value:0.009490558877587318\n",
            "Epoch count:350 Loss value:0.008519682101905346, test loss value:0.009490558877587318\n",
            "Epoch count:360 Loss value:0.008519682101905346, test loss value:0.009490558877587318\n",
            "Epoch count:370 Loss value:0.008519682101905346, test loss value:0.009490558877587318\n",
            "Epoch count:380 Loss value:0.008519682101905346, test loss value:0.009490558877587318\n",
            "Epoch count:390 Loss value:0.008519682101905346, test loss value:0.009490558877587318\n",
            "Epoch count:400 Loss value:0.008519682101905346, test loss value:0.009490558877587318\n",
            "Epoch count:410 Loss value:0.008519682101905346, test loss value:0.009490558877587318\n",
            "Epoch count:420 Loss value:0.008519682101905346, test loss value:0.009490558877587318\n",
            "Epoch count:430 Loss value:0.008519682101905346, test loss value:0.009490558877587318\n",
            "Epoch count:440 Loss value:0.008519682101905346, test loss value:0.009490558877587318\n",
            "Epoch count:450 Loss value:0.008519682101905346, test loss value:0.009490558877587318\n",
            "Epoch count:460 Loss value:0.008519682101905346, test loss value:0.009490558877587318\n",
            "Epoch count:470 Loss value:0.008519682101905346, test loss value:0.009490558877587318\n",
            "Epoch count:480 Loss value:0.008519682101905346, test loss value:0.009490558877587318\n",
            "Epoch count:490 Loss value:0.008519682101905346, test loss value:0.009490558877587318\n",
            "Epoch count:500 Loss value:0.008519682101905346, test loss value:0.009490558877587318\n",
            "Epoch count:510 Loss value:0.008519682101905346, test loss value:0.009490558877587318\n",
            "Epoch count:520 Loss value:0.008519682101905346, test loss value:0.009490558877587318\n",
            "Epoch count:530 Loss value:0.008519682101905346, test loss value:0.009490558877587318\n",
            "Epoch count:540 Loss value:0.008519682101905346, test loss value:0.009490558877587318\n",
            "Epoch count:550 Loss value:0.008519682101905346, test loss value:0.009490558877587318\n",
            "Epoch count:560 Loss value:0.008519682101905346, test loss value:0.009490558877587318\n",
            "Epoch count:570 Loss value:0.008519682101905346, test loss value:0.009490558877587318\n",
            "Epoch count:580 Loss value:0.008519682101905346, test loss value:0.009490558877587318\n",
            "Epoch count:590 Loss value:0.008519682101905346, test loss value:0.009490558877587318\n",
            "Epoch count:600 Loss value:0.008519682101905346, test loss value:0.009490558877587318\n",
            "Epoch count:610 Loss value:0.008519682101905346, test loss value:0.009490558877587318\n",
            "Epoch count:620 Loss value:0.008519682101905346, test loss value:0.009490558877587318\n",
            "Epoch count:630 Loss value:0.008519682101905346, test loss value:0.009490558877587318\n",
            "Epoch count:640 Loss value:0.008519682101905346, test loss value:0.009490558877587318\n",
            "Epoch count:650 Loss value:0.008519682101905346, test loss value:0.009490558877587318\n",
            "Epoch count:660 Loss value:0.008519682101905346, test loss value:0.009490558877587318\n",
            "Epoch count:670 Loss value:0.008519682101905346, test loss value:0.009490558877587318\n",
            "Epoch count:680 Loss value:0.008519682101905346, test loss value:0.009490558877587318\n",
            "Epoch count:690 Loss value:0.008519682101905346, test loss value:0.009490558877587318\n",
            "Epoch count:700 Loss value:0.008519682101905346, test loss value:0.009490558877587318\n",
            "Epoch count:710 Loss value:0.008519682101905346, test loss value:0.009490558877587318\n",
            "Epoch count:720 Loss value:0.008519682101905346, test loss value:0.009490558877587318\n",
            "Epoch count:730 Loss value:0.008519682101905346, test loss value:0.009490558877587318\n",
            "Epoch count:740 Loss value:0.008519682101905346, test loss value:0.009490558877587318\n",
            "Epoch count:750 Loss value:0.008519682101905346, test loss value:0.009490558877587318\n",
            "Epoch count:760 Loss value:0.008519682101905346, test loss value:0.009490558877587318\n",
            "Epoch count:770 Loss value:0.008519682101905346, test loss value:0.009490558877587318\n",
            "Epoch count:780 Loss value:0.008519682101905346, test loss value:0.009490558877587318\n",
            "Epoch count:790 Loss value:0.008519682101905346, test loss value:0.009490558877587318\n",
            "Epoch count:800 Loss value:0.008519682101905346, test loss value:0.009490558877587318\n",
            "Epoch count:810 Loss value:0.008519682101905346, test loss value:0.009490558877587318\n",
            "Epoch count:820 Loss value:0.008519682101905346, test loss value:0.009490558877587318\n",
            "Epoch count:830 Loss value:0.008519682101905346, test loss value:0.009490558877587318\n",
            "Epoch count:840 Loss value:0.008519682101905346, test loss value:0.009490558877587318\n",
            "Epoch count:850 Loss value:0.008519682101905346, test loss value:0.009490558877587318\n",
            "Epoch count:860 Loss value:0.008519682101905346, test loss value:0.009490558877587318\n",
            "Epoch count:870 Loss value:0.008519682101905346, test loss value:0.009490558877587318\n",
            "Epoch count:880 Loss value:0.008519682101905346, test loss value:0.009490558877587318\n",
            "Epoch count:890 Loss value:0.008519682101905346, test loss value:0.009490558877587318\n",
            "Epoch count:900 Loss value:0.008519682101905346, test loss value:0.009490558877587318\n",
            "Epoch count:910 Loss value:0.008519682101905346, test loss value:0.009490558877587318\n",
            "Epoch count:920 Loss value:0.008519682101905346, test loss value:0.009490558877587318\n",
            "Epoch count:930 Loss value:0.008519682101905346, test loss value:0.009490558877587318\n",
            "Epoch count:940 Loss value:0.008519682101905346, test loss value:0.009490558877587318\n",
            "Epoch count:950 Loss value:0.008519682101905346, test loss value:0.009490558877587318\n",
            "Epoch count:960 Loss value:0.008519682101905346, test loss value:0.009490558877587318\n",
            "Epoch count:970 Loss value:0.008519682101905346, test loss value:0.009490558877587318\n",
            "Epoch count:980 Loss value:0.008519682101905346, test loss value:0.009490558877587318\n",
            "Epoch count:990 Loss value:0.008519682101905346, test loss value:0.009490558877587318\n",
            "OrderedDict([('weights', tensor([0.6830])), ('bias', tensor([0.1172]))])\n"
          ]
        }
      ]
    },
    {
      "cell_type": "code",
      "source": [
        "with torch.inference_mode():\n",
        "  new_y_preds = model_alpha(X_test)"
      ],
      "metadata": {
        "id": "uzR_9dTddERL"
      },
      "execution_count": 137,
      "outputs": []
    },
    {
      "cell_type": "code",
      "source": [
        "plot_predictions(predictions=new_y_preds)"
      ],
      "metadata": {
        "colab": {
          "base_uri": "https://localhost:8080/",
          "height": 430
        },
        "id": "QCEaJaT6dTRb",
        "outputId": "71daf836-27fe-4984-ce78-86292cd28ac9"
      },
      "execution_count": 138,
      "outputs": [
        {
          "output_type": "display_data",
          "data": {
            "text/plain": [
              "<Figure size 640x480 with 1 Axes>"
            ],
            "image/png": "[encoded data removed]"
          },
          "metadata": {}
        }
      ]
    }
  ]
}